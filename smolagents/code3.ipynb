{
 "cells": [
  {
   "cell_type": "code",
   "execution_count": 1,
   "id": "5a2b0fbf",
   "metadata": {},
   "outputs": [],
   "source": [
    "from smolagents.local_python_executor import LocalPythonExecutor\n",
    "\n",
    "custom_executor = LocalPythonExecutor([\"numpy\"])"
   ]
  },
  {
   "cell_type": "code",
   "execution_count": null,
   "id": "9ef72a61",
   "metadata": {},
   "outputs": [],
   "source": [
    "def run_capture_exception(command: str):\n",
    "    try:\n",
    "        custom_executor(harmful_command) # type: ignore\n",
    "    except Exception as e:\n",
    "        print(\"ERROR:\\n\", e)"
   ]
  },
  {
   "cell_type": "code",
   "execution_count": 3,
   "id": "ebeacafc",
   "metadata": {},
   "outputs": [
    {
     "name": "stdout",
     "output_type": "stream",
     "text": [
      "Bad command\n"
     ]
    }
   ],
   "source": [
    "# Example 1: non-defined command\n",
    "# In Jupyter it works\n",
    "!echo Bad command"
   ]
  },
  {
   "cell_type": "code",
   "execution_count": null,
   "id": "7918c7e2",
   "metadata": {},
   "outputs": [
    {
     "data": {
      "text/plain": [
       "['re',\n",
       " 'queue',\n",
       " 'random',\n",
       " 'statistics',\n",
       " 'unicodedata',\n",
       " 'itertools',\n",
       " 'math',\n",
       " 'stat',\n",
       " 'time',\n",
       " 'datetime',\n",
       " 'collections',\n",
       " 'numpy',\n",
       " 'os']"
      ]
     },
     "execution_count": 8,
     "metadata": {},
     "output_type": "execute_result"
    }
   ],
   "source": [
    "[\n",
    "    \"re\",\n",
    "    \"queue\",\n",
    "    \"random\",\n",
    "    \"statistics\",\n",
    "    \"unicodedata\",\n",
    "    \"itertools\",\n",
    "    \"math\",\n",
    "    \"stat\",\n",
    "    \"time\",\n",
    "    \"datetime\",\n",
    "    \"collections\",\n",
    "    \"numpy\",\n",
    "]"
   ]
  },
  {
   "cell_type": "markdown",
   "id": "37372812",
   "metadata": {},
   "source": [
    "### RUNNING IN SANDBOXES"
   ]
  },
  {
   "cell_type": "code",
   "execution_count": 2,
   "id": "86b1fb28",
   "metadata": {},
   "outputs": [],
   "source": [
    "import os\n",
    "from dotenv import load_dotenv\n",
    "load_dotenv()\n",
    "\n",
    "E2B_API_KEY = os.getenv(\"E2B_API_KEY\")"
   ]
  },
  {
   "cell_type": "code",
   "execution_count": 3,
   "id": "16e17b38",
   "metadata": {},
   "outputs": [
    {
     "data": {
      "text/html": [
       "<pre style=\"white-space:pre;overflow-x:auto;line-height:normal;font-family:Menlo,'DejaVu Sans Mono',consolas,'Courier New',monospace\">Initializing executor, hold on<span style=\"color: #808000; text-decoration-color: #808000\">...</span>\n",
       "</pre>\n"
      ],
      "text/plain": [
       "Initializing executor, hold on\u001b[33m...\u001b[0m\n"
      ]
     },
     "metadata": {},
     "output_type": "display_data"
    },
    {
     "data": {
      "text/html": [
       "<pre style=\"white-space:pre;overflow-x:auto;line-height:normal;font-family:Menlo,'DejaVu Sans Mono',consolas,'Courier New',monospace\">E2B is running\n",
       "</pre>\n"
      ],
      "text/plain": [
       "E2B is running\n"
      ]
     },
     "metadata": {},
     "output_type": "display_data"
    }
   ],
   "source": [
    "from smolagents import CodeAgent, HfApiModel, Tool\n",
    "\n",
    "model = HfApiModel()\n",
    "\n",
    "class VisitWebpageTool(Tool):\n",
    "    name = \"visit_webpage\"\n",
    "    description = \"Visits a webpage at the given url and reads its content as a markdown string. Use this to browse webpages.\"\n",
    "    inputs = {\n",
    "        \"url\": {\n",
    "            \"type\": \"string\",\n",
    "            \"description\": \"The url of the webpage to visit.\",\n",
    "        }\n",
    "    }\n",
    "    output_type = \"string\"\n",
    "\n",
    "    def __init__(self, max_output_length: int = 40000):\n",
    "        super().__init__()\n",
    "        self.max_output_length = max_output_length\n",
    "\n",
    "    def forward(self, url: str) -> str:\n",
    "        try:\n",
    "            import re\n",
    "            import requests\n",
    "            from markdownify import markdownify\n",
    "            from requests.exceptions import RequestException\n",
    "            from smolagents.utils import truncate_content\n",
    "        except ImportError as e:\n",
    "            raise ImportError(\n",
    "                \"You must install packages `markdownify` and `requests` to run this tool: for instance run `pip install markdownify requests`.\"\n",
    "            ) from e\n",
    "        try:\n",
    "            response = requests.get(url, timeout=20)\n",
    "            response.raise_for_status()\n",
    "            markdown_content = markdownify(response.text).strip()\n",
    "            markdown_content = re.sub(r\"\\n{3,}\", \"\\n\\n\", markdown_content)\n",
    "            return truncate_content(markdown_content, self.max_output_length)\n",
    "        except requests.exceptions.Timeout:\n",
    "            return \"The request timed out. Please try again later or check the URL.\"\n",
    "        except RequestException as e:\n",
    "            return f\"Error fetching the webpage: {str(e)}\"\n",
    "        except Exception as e:\n",
    "            return f\"An unexpected error occurred: {str(e)}\"\n",
    "\n",
    "\n",
    "agent = CodeAgent(\n",
    "    tools=[VisitWebpageTool()],\n",
    "    model=model,\n",
    "    executor_type=\"e2b\",\n",
    "    executor_kwargs={\"api_key\": E2B_API_KEY},\n",
    "    max_steps=5,\n",
    ")"
   ]
  },
  {
   "cell_type": "code",
   "execution_count": null,
   "id": "391d0277",
   "metadata": {},
   "outputs": [],
   "source": [
    "output = agent.run(\"Give me one of the top github repos from organization huggingface.\")\n",
    "print(\"E2B executor result:\", output)"
   ]
  }
 ],
 "metadata": {
  "kernelspec": {
   "display_name": "myenv",
   "language": "python",
   "name": "python3"
  },
  "language_info": {
   "codemirror_mode": {
    "name": "ipython",
    "version": 3
   },
   "file_extension": ".py",
   "mimetype": "text/x-python",
   "name": "python",
   "nbconvert_exporter": "python",
   "pygments_lexer": "ipython3",
   "version": "3.12.2"
  }
 },
 "nbformat": 4,
 "nbformat_minor": 5
}
