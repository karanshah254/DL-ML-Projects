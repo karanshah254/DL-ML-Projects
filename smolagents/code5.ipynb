{
 "cells": [
  {
   "cell_type": "markdown",
   "metadata": {},
   "source": [
    "### BUILDING DEEP RESEARCH LIKE AGENT"
   ]
  },
  {
   "cell_type": "markdown",
   "metadata": {},
   "source": [
    "##### SETUP AND TEST SEARCH TOOLs"
   ]
  },
  {
   "cell_type": "code",
   "execution_count": null,
   "metadata": {},
   "outputs": [
    {
     "name": "stdout",
     "output_type": "stream",
     "text": [
      "[{'title': 'What Is the Melting Point of Ice Cream? - Reference.com', 'url': 'https://www.reference.com/science-technology/melting-point-ice-cream-d438071a06dd9e19', 'content': 'What Is the Melting Point of Ice Cream? According to the University of California – Santa Barbra, ice cream will melt at about 31 degrees Fahrenheit or -3 degrees Celsius. The freezing point of water is about 32 degrees Fahrenheit, but the ice cream is affected by the salt content. Adding salt to a liquid lowers the freezing point of the substance. The reason why salt affects the freezing point of liquids is because of the way liquids freeze. The molecules in a liquid are constantly moving, but as the liquid becomes colder, the molecules slow down causing it to freeze. When salt molecules are added to the liquid, the two molecules combine so that more heat must be removed in order for the liquid to freeze.', 'score': 0.5820878, 'raw_content': None}, {'title': \"What temperature does ice cream melt? - Chef's Resource\", 'url': 'https://www.chefsresource.com/what-temperature-does-ice-cream-melt/', 'content': 'What temperature does ice cream melt? What temperature does ice cream melt? **What Temperature Does Ice Cream Melt?** The melting process of ice cream is influenced by the fat and sugar content, as well as the presence of air bubbles. In addition, the process of churning during the ice cream-making process incorporates air into the mixture, which affects its melting properties. **What causes ice cream to melt?** When the temperature rises above freezing point, the fat and sugar in the ice cream begin to soften, causing it to melt. **At what temperature should ice cream be stored to prevent melting?** The type of container can influence how quickly ice cream melts. Home » Learn » What temperature does ice cream melt?', 'score': 0.23251961, 'raw_content': None}, {'title': 'The Sweet Spot: What Temperature Does Ice Cream Start Melting?', 'url': 'https://kitchenjournal.net/what-temperature-does-ice-cream-start-melting/', 'content': 'Factors That Affect the Melting Point of Ice Cream How does the churning process affect the melting point of ice cream? Sugar is another critical ingredient in ice cream, and it can affect the melting point of the mixture. The fat content of ice cream can affect its melting point. So, the next time you indulge in a cold ice cream cone, remember the science behind this tasty treat and the factors that affect its melting point. The melting point of ice cream also depends on the churning process and the air content in the mixture. However, they can also affect the melting point of the ice cream. How does the churning process affect the melting point of ice cream?', 'score': 0.1774118, 'raw_content': None}, {'title': '5 little-known reasons why ice cream vanishes so fast: uncover the ...', 'url': 'https://tastepursuits.com/36444/why-ice-cream-melts-quickly/', 'content': 'Factors such as humidity, air movement, and sunlight can contribute to the transfer of heat to the ice cream, accelerating the melting process. The rapid melting of ice cream is a result of a complex interplay of factors, including temperature, surface area, air content, ingredient composition, and environmental conditions. A: A larger surface area allows for more contact with the surrounding air, which transfers heat to the ice cream, increasing the melting rate. Q: What ingredients in ice cream slow down its melting rate? A: Fat and stabilizers can help to slow down heat transfer and improve the texture and stability of ice cream, making it less prone to melting. Save my name, email, and website in this browser for the next time I comment.', 'score': 0.14702806, 'raw_content': None}, {'title': 'Ice, Cream... and Chemistry - American Chemical Society', 'url': 'https://www.acs.org/education/chemmatters/past-issues/archive-2013-2014/ice-cream-chemistry.html', 'content': 'Ice, Cream... In ice cream, liquid particles of fat—called fat globules—are spread throughout a mixture of water, sugar, and ice, along with air bubbles (Fig. 1). A big reason why ice cream tastes so good is because of its high fat content. Just like oil floats to the top of water, the fat content in ice cream has a tendency to separate out, as well. This is good in milk, but not so good in ice cream, in which the fat droplets should coalesce to trap air. Soft-serve ice cream, or soft serve, for short, contains less fat and more air than regular ice cream. Another difference is that custard contains much less air than ice cream.', 'score': 0.07870625, 'raw_content': None}]\n"
     ]
    }
   ],
   "source": [
    "from tavily import TavilyClient\n",
    "from smolagents import tool, Tool\n",
    "import os\n",
    "from dotenv import load_dotenv\n",
    "\n",
    "load_dotenv(override=True)\n",
    "\n",
    "\n",
    "@tool\n",
    "def web_search(query: str) -> str:\n",
    "    \"\"\"Searches the web for your query.\n",
    "\n",
    "    Args:\n",
    "        query: Your query\n",
    "    \"\"\"\n",
    "    tavily_client = TavilyClient(api_key=os.getenv(\"TAVILY_API_KEY\"))\n",
    "    response = tavily_client.search(query)\n",
    "    return str(response[\"results\"])\n",
    "\n",
    "\n",
    "class VisitWebpageTool(Tool):\n",
    "    name = \"visit_webpage\"\n",
    "    description = \"Visits a webpage at the given url and reads its content as a markdown string. Use this to browse webpages.\"\n",
    "    inputs = {\n",
    "        \"url\": {\n",
    "            \"type\": \"string\",\n",
    "            \"description\": \"The url of the webpage to visit.\",\n",
    "        }\n",
    "    }\n",
    "    output_type = \"string\"\n",
    "\n",
    "    def forward(self, url: str) -> str:\n",
    "        try:\n",
    "            import re\n",
    "\n",
    "            import requests\n",
    "            from markdownify import markdownify\n",
    "            from requests.exceptions import RequestException\n",
    "\n",
    "            from smolagents.utils import truncate_content\n",
    "        except ImportError as e:\n",
    "            raise ImportError(\n",
    "                \"You must install packages `markdownify` and `requests` to run this tool: for instance run `pip install markdownify requests`.\"\n",
    "            ) from e\n",
    "        try:\n",
    "            response = requests.get(url, timeout=20)\n",
    "            response.raise_for_status()\n",
    "            markdown_content = markdownify(response.text).strip()\n",
    "            markdown_content = re.sub(r\"\\n{3,}\", \"\\n\\n\", markdown_content)\n",
    "            return truncate_content(markdown_content, 40000)\n",
    "\n",
    "        except requests.exceptions.Timeout:\n",
    "            return \"The request timed out. Please try again later or check the URL.\"\n",
    "        except RequestException as e:\n",
    "            return f\"Error fetching the webpage: {str(e)}\"\n",
    "        except Exception as e:\n",
    "            return f\"An unexpected error occurred: {str(e)}\"\n",
    "\n",
    "\n",
    "print(web_search(\"What is the melting temperature of vanilla ice cream in °C?\"))"
   ]
  },
  {
   "cell_type": "markdown",
   "metadata": {},
   "source": [
    "#### SETUP AN AGENT"
   ]
  },
  {
   "cell_type": "code",
   "execution_count": 4,
   "metadata": {},
   "outputs": [
    {
     "name": "stderr",
     "output_type": "stream",
     "text": [
      "Note: Environment variable`HF_TOKEN` is set and is the current active token independently from the token you've just configured.\n"
     ]
    }
   ],
   "source": [
    "from PIL import Image\n",
    "from smolagents import CodeAgent, HfApiModel\n",
    "from huggingface_hub import login\n",
    "\n",
    "login(os.getenv(\"HF_TOKEN\"))\n",
    "code_model = \"gpt-4.1-mini\"\n",
    "\n",
    "model = HfApiModel(\n",
    "    code_model,\n",
    "    max_completion_tokens=8096,\n",
    ")"
   ]
  },
  {
   "cell_type": "code",
   "execution_count": 5,
   "metadata": {},
   "outputs": [],
   "source": [
    "request_museums = \"\"\"\n",
    "Could you give me a sorted list of the top 3 museums in the world in 2024,\n",
    "along with their visitor count (in millions) that year, and the approximate daily temperature\n",
    "in July at their location ?\"\"\""
   ]
  },
  {
   "cell_type": "code",
   "execution_count": null,
   "metadata": {},
   "outputs": [],
   "source": [
    "agent = CodeAgent(model=model, tools=[web_search, VisitWebpageTool()], max_steps=10)\n",
    "agent.logger.console.width = 66\n",
    "result = agent.run(request_museums)"
   ]
  },
  {
   "cell_type": "code",
   "execution_count": null,
   "metadata": {},
   "outputs": [],
   "source": [
    "import pandas as pd\n",
    "\n",
    "try:\n",
    "    display(pd.DataFrame(result))\n",
    "except Exception as e:\n",
    "    print(\"Could not display as DataFrame:\", e)\n",
    "    print(result)"
   ]
  },
  {
   "cell_type": "markdown",
   "metadata": {},
   "source": [
    "### CREATE A MULTI AGENT RESEARCHER\n",
    "##### START WITH WEB SEARCH AGENT"
   ]
  },
  {
   "cell_type": "code",
   "execution_count": null,
   "metadata": {},
   "outputs": [],
   "source": [
    "web_agent = CodeAgent(\n",
    "    model=HfApiModel(\n",
    "        code_model,\n",
    "        max_completion_tokens=8096,\n",
    "    ),\n",
    "    tools=[web_search, VisitWebpageTool()],\n",
    "    max_steps=10,\n",
    "    name=\"web_agent\",\n",
    "    description=\"Runs web searches for you.\",\n",
    ")\n",
    "web_agent.logger.console.width = 66"
   ]
  },
  {
   "cell_type": "markdown",
   "metadata": {},
   "source": [
    "#### SETUP MANAGER AGENT"
   ]
  },
  {
   "cell_type": "code",
   "execution_count": null,
   "metadata": {},
   "outputs": [],
   "source": [
    "from smolagents import Tool\n",
    "from typing import Any\n",
    "from smolagents.utils import make_image_url, encode_image_base64\n",
    "\n",
    "\n",
    "def check_reasoning_and_plot(final_answer, agent_memory):\n",
    "    final_answer\n",
    "    multimodal_model = HfApiModel(\n",
    "        \"gpt-4o\",\n",
    "    )\n",
    "    filepath = \"saved_map.png\"\n",
    "    assert os.path.exists(filepath), \"Make sure to save the plot under saved_map.png!\"\n",
    "    image = Image.open(filepath)\n",
    "    prompt = (\n",
    "        f\"Here is a user-given task and the agent steps: {agent_memory.get_succinct_steps()}. Now here is the plot that was made.\"\n",
    "        \"Please check that the reasoning process and plot are correct: do they correctly answer the given task?\"\n",
    "        \"First list reasons why yes/no, then write your final decision: PASS in caps lock if it is satisfactory, FAIL if it is not.\"\n",
    "        \"Don't be harsh: if the plot mostly solves the task, it should pass.\"\n",
    "        \"To pass, a plot should be made using px.scatter_map and not any other method (scatter_map looks nicer).\"\n",
    "        \"Also, any run that invents numbers should fail.\"\n",
    "    )\n",
    "    messages = [\n",
    "        {\n",
    "            \"role\": \"user\",\n",
    "            \"content\": [\n",
    "                {\n",
    "                    \"type\": \"text\",\n",
    "                    \"text\": prompt,\n",
    "                },\n",
    "                {\n",
    "                    \"type\": \"image_url\",\n",
    "                    \"image_url\": {\"url\": make_image_url(encode_image_base64(image))},\n",
    "                },\n",
    "            ],\n",
    "        }\n",
    "    ]\n",
    "    output = multimodal_model(messages).content\n",
    "    print(\"Feedback: \", output)\n",
    "    if \"FAIL\" in output:\n",
    "        raise Exception(output)\n",
    "    return True\n",
    "\n",
    "\n",
    "manager_agent = CodeAgent(\n",
    "    model=HfApiModel(\n",
    "        code_model,\n",
    "        max_tokens=8096,\n",
    "    ),\n",
    "    tools=[],\n",
    "    managed_agents=[web_agent],\n",
    "    additional_authorized_imports=[\n",
    "        \"geopandas\",\n",
    "        \"plotly\",\n",
    "        \"plotly.express\",\n",
    "        \"plotly.express.colors\",\n",
    "        \"shapely\",\n",
    "        \"json\",\n",
    "        \"pandas\",\n",
    "        \"numpy\",\n",
    "    ],\n",
    "    planning_interval=5,\n",
    "    verbosity_level=2,\n",
    "    final_answer_checks=[check_reasoning_and_plot],\n",
    "    max_steps=15,\n",
    ")\n",
    "manager_agent.logger.console.width = 66"
   ]
  },
  {
   "cell_type": "code",
   "execution_count": null,
   "metadata": {},
   "outputs": [],
   "source": [
    "manager_agent.visualize()"
   ]
  },
  {
   "cell_type": "code",
   "execution_count": null,
   "metadata": {},
   "outputs": [],
   "source": [
    "import os\n",
    "\n",
    "os.path.exists(\"saved_map.png\") and os.remove(\"saved_map.png\")"
   ]
  },
  {
   "cell_type": "code",
   "execution_count": null,
   "metadata": {},
   "outputs": [],
   "source": [
    "manager_agent.run(\n",
    "    f\"\"\"\n",
    "{request_museums}\n",
    "\n",
    "Then make me a spatial map of the world using px.scatter_map, with the biggest museums \n",
    "represented as scatter points of size depending on visitor count and color depending \n",
    "on the average temperature in July.\n",
    "Save the map to saved_map.png, then return it!\n",
    "\n",
    "Here's an example of how to plot and return a map:\n",
    "import plotly.express as px\n",
    "df = px.data.carshare()\n",
    "fig = px.scatter_map(df, lat=\"centroid_lat\", lon=\"centroid_lon\", text=\"name\", color=\"peak_hour\",\n",
    "     color_continuous_scale=px.colors.sequential.Magma_r, size_max=15, zoom=1)\n",
    "fig.show()\n",
    "final_answer(fig)\n",
    "\n",
    "Do not invent any numbers! You must only use numbers sourced from the internet.\n",
    "\"\"\"\n",
    ")"
   ]
  },
  {
   "cell_type": "code",
   "execution_count": null,
   "metadata": {},
   "outputs": [],
   "source": [
    "fig = manager_agent.python_executor.state[\"fig\"]\n",
    "fig.update_layout(width=700, height=700)\n",
    "fig.show()"
   ]
  }
 ],
 "metadata": {
  "kernelspec": {
   "display_name": "myenv",
   "language": "python",
   "name": "python3"
  },
  "language_info": {
   "codemirror_mode": {
    "name": "ipython",
    "version": 3
   },
   "file_extension": ".py",
   "mimetype": "text/x-python",
   "name": "python",
   "nbconvert_exporter": "python",
   "pygments_lexer": "ipython3",
   "version": "3.12.2"
  }
 },
 "nbformat": 4,
 "nbformat_minor": 2
}
