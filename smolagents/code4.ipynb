{
 "cells": [
  {
   "cell_type": "code",
   "execution_count": 1,
   "id": "913f4b46",
   "metadata": {},
   "outputs": [],
   "source": [
    "PROJECT_NAME = \"Customer-Success\""
   ]
  },
  {
   "cell_type": "code",
   "execution_count": 2,
   "id": "8f2d723f",
   "metadata": {},
   "outputs": [
    {
     "name": "stdout",
     "output_type": "stream",
     "text": [
      "OpenTelemetry Tracing Details\n",
      "|  Phoenix Project: Customer-Success\n",
      "|  Span Processor: SimpleSpanProcessor\n",
      "|  Collector Endpoint: https://s172-29-20-7p6006.lab-aws-production.deeplearning.ai/v1/traces\n",
      "|  Transport: HTTP + protobuf\n",
      "|  Transport Headers: {}\n",
      "|  \n",
      "|  Using a default SpanProcessor. `add_span_processor` will overwrite this default.\n",
      "|  \n",
      "|  WARNING: It is strongly advised to use a BatchSpanProcessor in production environments.\n",
      "|  \n",
      "|  `register` has set this TracerProvider as the global OpenTelemetry default.\n",
      "|  To disable this behavior, call `register` with `set_global_tracer_provider=False`.\n",
      "\n"
     ]
    }
   ],
   "source": [
    "import os\n",
    "from phoenix.otel import register\n",
    "from openinference.instrumentation.smolagents import SmolagentsInstrumentor\n",
    "\n",
    "tracer_provider = register(\n",
    "    project_name=PROJECT_NAME,\n",
    "    # endpoint= get_phoenix_endpoint() + \"v1/traces\"\n",
    "    endpoint=os.getenv(\"DLAI_LOCAL_URL\"),\n",
    ")\n",
    "SmolagentsInstrumentor().instrument(tracer_provider=tracer_provider)"
   ]
  },
  {
   "cell_type": "code",
   "execution_count": 3,
   "id": "62bb24fe",
   "metadata": {},
   "outputs": [
    {
     "name": "stderr",
     "output_type": "stream",
     "text": [
      "Note: Environment variable`HF_TOKEN` is set and is the current active token independently from the token you've just configured.\n"
     ]
    }
   ],
   "source": [
    "from dotenv import load_dotenv, find_dotenv\n",
    "\n",
    "load_dotenv()\n",
    "\n",
    "from huggingface_hub import login\n",
    "\n",
    "login(os.getenv(\"HF_TOKEN\"))"
   ]
  },
  {
   "cell_type": "code",
   "execution_count": null,
   "id": "4ea1f195",
   "metadata": {},
   "outputs": [],
   "source": [
    "from smolagents import HfApiModel\n",
    "\n",
    "model = HfApiModel(\"Qwen/Qwen2.5-Coder-32B-Instruct\", provider=\"together\")\n",
    "\n",
    "model([{\"role\": \"user\", \"content\": \"Hello!\"}])"
   ]
  },
  {
   "cell_type": "code",
   "execution_count": 5,
   "id": "01b4e20e",
   "metadata": {},
   "outputs": [
    {
     "name": "stdout",
     "output_type": "stream",
     "text": [
      "https://s172-29-20-7p6006.lab-aws-production.deeplearning.ai/v1/traces\n"
     ]
    }
   ],
   "source": [
    "# This is where you can access the display:\n",
    "print(os.environ.get(\"DLAI_LOCAL_URL\").format(port=\"6006\"))"
   ]
  },
  {
   "cell_type": "code",
   "execution_count": 6,
   "id": "800584a9",
   "metadata": {},
   "outputs": [],
   "source": [
    "from smolagents import HfApiModel, CodeAgent\n",
    "\n",
    "agent = CodeAgent(model=model, tools=[])"
   ]
  },
  {
   "cell_type": "code",
   "execution_count": null,
   "id": "4440d106",
   "metadata": {},
   "outputs": [],
   "source": [
    "agent.run(\"What is the 100th Fibonacci number?\")"
   ]
  },
  {
   "cell_type": "code",
   "execution_count": 9,
   "id": "9c305331",
   "metadata": {},
   "outputs": [],
   "source": [
    "from smolagents import tool\n",
    "from typing import Dict\n",
    "\n",
    "menu_prices = {\"crepe nutella\": 1.50, \"vanilla ice cream\": 2, \"maple pancake\": 1.0}\n",
    "\n",
    "ORDER_BOOK = {}\n",
    "\n",
    "\n",
    "@tool\n",
    "def place_order(quantities: Dict[str, int], session_id: int) -> None:\n",
    "    \"\"\"Places a pre-order of snacks.\n",
    "\n",
    "    Args:\n",
    "        quantities: a dictionary with names as keys and quantities as values\n",
    "        session_id: the id for the client session\n",
    "    \"\"\"\n",
    "    global ORDER_BOOK\n",
    "    assert isinstance(quantities, dict), \"Incorrect type for the input dictionary!\"\n",
    "    assert [\n",
    "        key in menu_prices for key in quantities.keys()\n",
    "    ], f\"All food names should be within {menu_prices.keys()}\"\n",
    "    ORDER_BOOK[session_id] = quantities\n",
    "\n",
    "\n",
    "@tool\n",
    "def get_prices(quantities: Dict[str, int]) -> str:\n",
    "    \"\"\"Gets price for certain quantities of ice cream.\n",
    "\n",
    "    Args:\n",
    "        quantities: a dictionary with names as keys and quantities as values\n",
    "    \"\"\"\n",
    "    assert isinstance(quantities, dict), \"Incorrect type for the input dictionary!\"\n",
    "    assert [\n",
    "        key in menu_prices for key in quantities.keys()\n",
    "    ], f\"All food names should be within {menu_prices.keys()}\"\n",
    "    total_price = sum([menu_prices[key] * value for key, value in quantities.items()])\n",
    "    return f\"Given the current menu prices:\\n{menu_prices}\\nThe total price for your order would be: ${total_price}\""
   ]
  },
  {
   "cell_type": "code",
   "execution_count": 10,
   "id": "e4636d73",
   "metadata": {},
   "outputs": [],
   "source": [
    "order_agent = CodeAgent(\n",
    "    tools=[place_order, get_prices],\n",
    "    model=HfApiModel(\"Qwen/Qwen2.5-Coder-32B-Instruct\", provider=\"together\"),\n",
    ")"
   ]
  },
  {
   "cell_type": "code",
   "execution_count": null,
   "id": "27a3382f",
   "metadata": {},
   "outputs": [],
   "source": [
    "order_agent.run(\n",
    "    \"Could I come and collect one crepe nutella?\", additional_args={\"session_id\": 192}\n",
    ")"
   ]
  },
  {
   "cell_type": "markdown",
   "id": "ed28ab8d",
   "metadata": {},
   "source": [
    "#### TRY MULTIPLE ORDERS\n"
   ]
  },
  {
   "cell_type": "code",
   "execution_count": 12,
   "id": "d6224e37",
   "metadata": {},
   "outputs": [],
   "source": [
    "client_requests = [\n",
    "    (\"Could I come and collect one crepe nutella?\", \"place_order\"),\n",
    "    (\"What would be the price for 1 crêpe nutella + 2 pancakes?\", \"get_prices\"),\n",
    "    (\"How did you start your ice-cream business?\", None),\n",
    "    (\"What's the weather at the Louvre right now?\", None),\n",
    "    (\n",
    "        \"I'm not sure if I should order. I want a vanilla ice cream. but if it's more expensive than $1, I don't want it. If it's below, I'll order it, please.\",\n",
    "        \"place_order\",\n",
    "    ),\n",
    "]"
   ]
  },
  {
   "cell_type": "code",
   "execution_count": null,
   "id": "8275c0bb",
   "metadata": {},
   "outputs": [],
   "source": [
    "for request in client_requests:\n",
    "    order_agent.run(\n",
    "        request[0], additional_args={\"session_id\": 0, \"menu_prices\": menu_prices}\n",
    "    )"
   ]
  },
  {
   "cell_type": "code",
   "execution_count": null,
   "id": "a2789c98",
   "metadata": {},
   "outputs": [],
   "source": [
    "import phoenix as px\n",
    "\n",
    "spans = px.Client().get_spans_dataframe(project_name=PROJECT_NAME)\n",
    "spans.head(20)\n",
    "px.launch_app()"
   ]
  },
  {
   "cell_type": "markdown",
   "id": "129edf0b",
   "metadata": {},
   "source": [
    "#### ADD PROCESSING TO EXTRACT DESIRED INFORMATION\n"
   ]
  },
  {
   "cell_type": "code",
   "execution_count": null,
   "id": "e3d98ecf",
   "metadata": {},
   "outputs": [],
   "source": [
    "import pandas as pd\n",
    "import json\n",
    "\n",
    "agents = spans[spans[\"span_kind\"] == \"AGENT\"].copy()\n",
    "agents[\"task\"] = agents[\"attributes.input.value\"].apply(\n",
    "    lambda x: json.loads(x).get(\"task\") if isinstance(x, str) else None\n",
    ")\n",
    "\n",
    "tools = spans.loc[\n",
    "    spans[\"span_kind\"] == \"TOOL\",\n",
    "    [\"attributes.tool.name\", \"attributes.input.value\", \"context.trace_id\"],\n",
    "].copy()\n",
    "\n",
    "tools_per_task = agents[[\"name\", \"start_time\", \"task\", \"context.trace_id\"]].merge(\n",
    "    tools,\n",
    "    on=\"context.trace_id\",\n",
    "    how=\"left\",\n",
    ")\n",
    "tools_per_task.head()"
   ]
  },
  {
   "cell_type": "markdown",
   "id": "81a3fbcb",
   "metadata": {},
   "source": [
    "#### NOW COMPARE TOOLS CALLS WITH EXTERNAL TOOLS CALLS\n"
   ]
  },
  {
   "cell_type": "code",
   "execution_count": null,
   "id": "c4841b27",
   "metadata": {},
   "outputs": [],
   "source": [
    "def score_request(expected_tool: str, tool_calls: list):\n",
    "    if expected_tool is None:\n",
    "        return tool_calls == set([\"final_answer\"])\n",
    "    else:\n",
    "        return expected_tool in tool_calls\n",
    "\n",
    "\n",
    "results = []\n",
    "for request, expected_tool in client_requests:\n",
    "    tool_calls = set(\n",
    "        tools_per_task.loc[\n",
    "            tools_per_task[\"task\"] == request, \"attributes.tool.name\"\n",
    "        ].tolist()\n",
    "    )\n",
    "    results.append(\n",
    "        {\n",
    "            \"request\": request,\n",
    "            \"tool_calls_performed\": tool_calls,\n",
    "            \"is_correct\": score_request(expected_tool, tool_calls),\n",
    "        }\n",
    "    )\n",
    "pd.DataFrame(results)"
   ]
  }
 ],
 "metadata": {
  "kernelspec": {
   "display_name": "myenv",
   "language": "python",
   "name": "python3"
  },
  "language_info": {
   "codemirror_mode": {
    "name": "ipython",
    "version": 3
   },
   "file_extension": ".py",
   "mimetype": "text/x-python",
   "name": "python",
   "nbconvert_exporter": "python",
   "pygments_lexer": "ipython3",
   "version": "3.12.2"
  }
 },
 "nbformat": 4,
 "nbformat_minor": 5
}
